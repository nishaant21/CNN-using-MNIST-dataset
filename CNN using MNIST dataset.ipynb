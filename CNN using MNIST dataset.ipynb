{
 "cells": [
  {
   "cell_type": "markdown",
   "id": "8cd96102",
   "metadata": {},
   "source": [
    "# Convolutional Neural Network (CNN) using the MNIST dataset "
   ]
  },
  {
   "cell_type": "markdown",
   "id": "ba4f37f6",
   "metadata": {},
   "source": [
    "### Importing necessary libraries"
   ]
  },
  {
   "cell_type": "code",
   "execution_count": 44,
   "id": "8c2950ea",
   "metadata": {},
   "outputs": [],
   "source": [
    "import pandas as pd\n",
    "import numpy as np\n",
    "import matplotlib.pyplot as plt\n",
    "import cv2\n",
    "import tensorflow as tf\n",
    "import keras"
   ]
  },
  {
   "cell_type": "code",
   "execution_count": 45,
   "id": "674062a0",
   "metadata": {},
   "outputs": [],
   "source": [
    "mnist=pd.read_csv(r\"C:\\Users\\nisha\\OneDrive\\Documents\\Datasets\\Neural\\MNIST_Train.csv\")"
   ]
  },
  {
   "cell_type": "code",
   "execution_count": 46,
   "id": "f45a5c43",
   "metadata": {},
   "outputs": [
    {
     "data": {
      "text/html": [
       "<div>\n",
       "<style scoped>\n",
       "    .dataframe tbody tr th:only-of-type {\n",
       "        vertical-align: middle;\n",
       "    }\n",
       "\n",
       "    .dataframe tbody tr th {\n",
       "        vertical-align: top;\n",
       "    }\n",
       "\n",
       "    .dataframe thead th {\n",
       "        text-align: right;\n",
       "    }\n",
       "</style>\n",
       "<table border=\"1\" class=\"dataframe\">\n",
       "  <thead>\n",
       "    <tr style=\"text-align: right;\">\n",
       "      <th></th>\n",
       "      <th>label</th>\n",
       "      <th>pixel0</th>\n",
       "      <th>pixel1</th>\n",
       "      <th>pixel2</th>\n",
       "      <th>pixel3</th>\n",
       "      <th>pixel4</th>\n",
       "      <th>pixel5</th>\n",
       "      <th>pixel6</th>\n",
       "      <th>pixel7</th>\n",
       "      <th>pixel8</th>\n",
       "      <th>...</th>\n",
       "      <th>pixel774</th>\n",
       "      <th>pixel775</th>\n",
       "      <th>pixel776</th>\n",
       "      <th>pixel777</th>\n",
       "      <th>pixel778</th>\n",
       "      <th>pixel779</th>\n",
       "      <th>pixel780</th>\n",
       "      <th>pixel781</th>\n",
       "      <th>pixel782</th>\n",
       "      <th>pixel783</th>\n",
       "    </tr>\n",
       "  </thead>\n",
       "  <tbody>\n",
       "    <tr>\n",
       "      <th>0</th>\n",
       "      <td>1</td>\n",
       "      <td>0</td>\n",
       "      <td>0</td>\n",
       "      <td>0</td>\n",
       "      <td>0</td>\n",
       "      <td>0</td>\n",
       "      <td>0</td>\n",
       "      <td>0</td>\n",
       "      <td>0</td>\n",
       "      <td>0</td>\n",
       "      <td>...</td>\n",
       "      <td>0</td>\n",
       "      <td>0</td>\n",
       "      <td>0</td>\n",
       "      <td>0</td>\n",
       "      <td>0</td>\n",
       "      <td>0</td>\n",
       "      <td>0</td>\n",
       "      <td>0</td>\n",
       "      <td>0</td>\n",
       "      <td>0</td>\n",
       "    </tr>\n",
       "    <tr>\n",
       "      <th>1</th>\n",
       "      <td>0</td>\n",
       "      <td>0</td>\n",
       "      <td>0</td>\n",
       "      <td>0</td>\n",
       "      <td>0</td>\n",
       "      <td>0</td>\n",
       "      <td>0</td>\n",
       "      <td>0</td>\n",
       "      <td>0</td>\n",
       "      <td>0</td>\n",
       "      <td>...</td>\n",
       "      <td>0</td>\n",
       "      <td>0</td>\n",
       "      <td>0</td>\n",
       "      <td>0</td>\n",
       "      <td>0</td>\n",
       "      <td>0</td>\n",
       "      <td>0</td>\n",
       "      <td>0</td>\n",
       "      <td>0</td>\n",
       "      <td>0</td>\n",
       "    </tr>\n",
       "    <tr>\n",
       "      <th>2</th>\n",
       "      <td>1</td>\n",
       "      <td>0</td>\n",
       "      <td>0</td>\n",
       "      <td>0</td>\n",
       "      <td>0</td>\n",
       "      <td>0</td>\n",
       "      <td>0</td>\n",
       "      <td>0</td>\n",
       "      <td>0</td>\n",
       "      <td>0</td>\n",
       "      <td>...</td>\n",
       "      <td>0</td>\n",
       "      <td>0</td>\n",
       "      <td>0</td>\n",
       "      <td>0</td>\n",
       "      <td>0</td>\n",
       "      <td>0</td>\n",
       "      <td>0</td>\n",
       "      <td>0</td>\n",
       "      <td>0</td>\n",
       "      <td>0</td>\n",
       "    </tr>\n",
       "    <tr>\n",
       "      <th>3</th>\n",
       "      <td>4</td>\n",
       "      <td>0</td>\n",
       "      <td>0</td>\n",
       "      <td>0</td>\n",
       "      <td>0</td>\n",
       "      <td>0</td>\n",
       "      <td>0</td>\n",
       "      <td>0</td>\n",
       "      <td>0</td>\n",
       "      <td>0</td>\n",
       "      <td>...</td>\n",
       "      <td>0</td>\n",
       "      <td>0</td>\n",
       "      <td>0</td>\n",
       "      <td>0</td>\n",
       "      <td>0</td>\n",
       "      <td>0</td>\n",
       "      <td>0</td>\n",
       "      <td>0</td>\n",
       "      <td>0</td>\n",
       "      <td>0</td>\n",
       "    </tr>\n",
       "    <tr>\n",
       "      <th>4</th>\n",
       "      <td>0</td>\n",
       "      <td>0</td>\n",
       "      <td>0</td>\n",
       "      <td>0</td>\n",
       "      <td>0</td>\n",
       "      <td>0</td>\n",
       "      <td>0</td>\n",
       "      <td>0</td>\n",
       "      <td>0</td>\n",
       "      <td>0</td>\n",
       "      <td>...</td>\n",
       "      <td>0</td>\n",
       "      <td>0</td>\n",
       "      <td>0</td>\n",
       "      <td>0</td>\n",
       "      <td>0</td>\n",
       "      <td>0</td>\n",
       "      <td>0</td>\n",
       "      <td>0</td>\n",
       "      <td>0</td>\n",
       "      <td>0</td>\n",
       "    </tr>\n",
       "  </tbody>\n",
       "</table>\n",
       "<p>5 rows × 785 columns</p>\n",
       "</div>"
      ],
      "text/plain": [
       "   label  pixel0  pixel1  pixel2  pixel3  pixel4  pixel5  pixel6  pixel7  \\\n",
       "0      1       0       0       0       0       0       0       0       0   \n",
       "1      0       0       0       0       0       0       0       0       0   \n",
       "2      1       0       0       0       0       0       0       0       0   \n",
       "3      4       0       0       0       0       0       0       0       0   \n",
       "4      0       0       0       0       0       0       0       0       0   \n",
       "\n",
       "   pixel8  ...  pixel774  pixel775  pixel776  pixel777  pixel778  pixel779  \\\n",
       "0       0  ...         0         0         0         0         0         0   \n",
       "1       0  ...         0         0         0         0         0         0   \n",
       "2       0  ...         0         0         0         0         0         0   \n",
       "3       0  ...         0         0         0         0         0         0   \n",
       "4       0  ...         0         0         0         0         0         0   \n",
       "\n",
       "   pixel780  pixel781  pixel782  pixel783  \n",
       "0         0         0         0         0  \n",
       "1         0         0         0         0  \n",
       "2         0         0         0         0  \n",
       "3         0         0         0         0  \n",
       "4         0         0         0         0  \n",
       "\n",
       "[5 rows x 785 columns]"
      ]
     },
     "execution_count": 46,
     "metadata": {},
     "output_type": "execute_result"
    }
   ],
   "source": [
    "mnist.head()"
   ]
  },
  {
   "cell_type": "code",
   "execution_count": 47,
   "id": "65ece150",
   "metadata": {},
   "outputs": [],
   "source": [
    "from keras.models import Sequential\n",
    "from keras.layers import Conv2D,MaxPool2D,Flatten,Dense,Dropout\n",
    "from tensorflow.keras.utils import to_categorical"
   ]
  },
  {
   "cell_type": "markdown",
   "id": "2b37210d",
   "metadata": {},
   "source": [
    "### Splitting data intro train and test "
   ]
  },
  {
   "cell_type": "code",
   "execution_count": 50,
   "id": "29e91b94",
   "metadata": {},
   "outputs": [],
   "source": [
    "from sklearn.model_selection import train_test_split\n",
    "\n",
    "mnist_train,mnist_test=train_test_split(mnist,test_size=.2)\n",
    "\n",
    "mnist_train_x=mnist_train.iloc[:,1::]\n",
    "mnist_train_y=mnist_train.iloc[:,0]\n",
    "\n",
    "mnist_test_x=mnist_test.iloc[:,1::]\n",
    "mnist_test_y=mnist_test.iloc[:,0]\n"
   ]
  },
  {
   "cell_type": "code",
   "execution_count": 51,
   "id": "c52b4899",
   "metadata": {},
   "outputs": [],
   "source": [
    "mnist_train_x=np.array(mnist_train_x)\n",
    "mnist_train_y=np.array(mnist_train_y)\n",
    "\n",
    "mnist_test_x=np.array(mnist_test_x)"
   ]
  },
  {
   "cell_type": "markdown",
   "id": "ff5176c6",
   "metadata": {},
   "source": [
    "### Normalization"
   ]
  },
  {
   "cell_type": "code",
   "execution_count": 52,
   "id": "cfe7ce51",
   "metadata": {},
   "outputs": [],
   "source": [
    "mnist_train_x=mnist_train_x.reshape(-1,28,28,1)"
   ]
  },
  {
   "cell_type": "code",
   "execution_count": 53,
   "id": "db2a1995",
   "metadata": {},
   "outputs": [],
   "source": [
    "mnist_x=tf.keras.utils.normalize(mnist_train_x)"
   ]
  },
  {
   "cell_type": "code",
   "execution_count": 54,
   "id": "b9e8c096",
   "metadata": {},
   "outputs": [],
   "source": [
    "mnist_train_y=to_categorical(mnist_train_y)"
   ]
  },
  {
   "cell_type": "markdown",
   "id": "3891fe7e",
   "metadata": {},
   "source": [
    "### Buidling a CNN model"
   ]
  },
  {
   "cell_type": "code",
   "execution_count": 55,
   "id": "c3ea1069",
   "metadata": {},
   "outputs": [],
   "source": [
    "from keras.models import Sequential\n",
    "from keras.layers import Conv2D, MaxPool2D, Flatten, Dense, Dropout\n",
    "\n",
    "model = Sequential()\n",
    "model.add(Conv2D(filters=16, kernel_size=(5, 5), activation='relu', padding='same', input_shape=(28, 28, 1)))\n",
    "model.add(MaxPool2D(pool_size=(2, 2)))\n",
    "\n",
    "model.add(Flatten())  \n",
    "model.add(Dense(128, activation='relu'))\n",
    "model.add(Dropout(0.2))\n",
    "model.add(Dense(10,activation='softmax'))"
   ]
  },
  {
   "cell_type": "code",
   "execution_count": 56,
   "id": "526c4f59",
   "metadata": {},
   "outputs": [],
   "source": [
    "adam=tf.keras.optimizers.Adam(learning_rate=0.001)\n",
    "\n",
    "model.compile(optimizer='adam',loss='categorical_crossentropy',metrics=['accuracy'])"
   ]
  },
  {
   "cell_type": "code",
   "execution_count": 57,
   "id": "5300d17e",
   "metadata": {},
   "outputs": [
    {
     "name": "stdout",
     "output_type": "stream",
     "text": [
      "Epoch 1/5\n",
      "WARNING:tensorflow:From C:\\Users\\nisha\\anaconda3\\Lib\\site-packages\\keras\\src\\utils\\tf_utils.py:492: The name tf.ragged.RaggedTensorValue is deprecated. Please use tf.compat.v1.ragged.RaggedTensorValue instead.\n",
      "\n"
     ]
    },
    {
     "name": "stderr",
     "output_type": "stream",
     "text": [
      "WARNING:tensorflow:From C:\\Users\\nisha\\anaconda3\\Lib\\site-packages\\keras\\src\\utils\\tf_utils.py:492: The name tf.ragged.RaggedTensorValue is deprecated. Please use tf.compat.v1.ragged.RaggedTensorValue instead.\n",
      "\n"
     ]
    },
    {
     "name": "stdout",
     "output_type": "stream",
     "text": [
      "WARNING:tensorflow:From C:\\Users\\nisha\\anaconda3\\Lib\\site-packages\\keras\\src\\engine\\base_layer_utils.py:384: The name tf.executing_eagerly_outside_functions is deprecated. Please use tf.compat.v1.executing_eagerly_outside_functions instead.\n",
      "\n"
     ]
    },
    {
     "name": "stderr",
     "output_type": "stream",
     "text": [
      "WARNING:tensorflow:From C:\\Users\\nisha\\anaconda3\\Lib\\site-packages\\keras\\src\\engine\\base_layer_utils.py:384: The name tf.executing_eagerly_outside_functions is deprecated. Please use tf.compat.v1.executing_eagerly_outside_functions instead.\n",
      "\n"
     ]
    },
    {
     "name": "stdout",
     "output_type": "stream",
     "text": [
      "420/420 [==============================] - 9s 16ms/step - loss: 1.1215 - accuracy: 0.8483 - val_loss: 0.2114 - val_accuracy: 0.9417\n",
      "Epoch 2/5\n",
      "420/420 [==============================] - 6s 14ms/step - loss: 0.2086 - accuracy: 0.9415 - val_loss: 0.1468 - val_accuracy: 0.9628\n",
      "Epoch 3/5\n",
      "420/420 [==============================] - 6s 14ms/step - loss: 0.1338 - accuracy: 0.9600 - val_loss: 0.1090 - val_accuracy: 0.9726\n",
      "Epoch 4/5\n",
      "420/420 [==============================] - 6s 14ms/step - loss: 0.0988 - accuracy: 0.9694 - val_loss: 0.1112 - val_accuracy: 0.9729\n",
      "Epoch 5/5\n",
      "420/420 [==============================] - 6s 13ms/step - loss: 0.0793 - accuracy: 0.9749 - val_loss: 0.1088 - val_accuracy: 0.9749\n"
     ]
    },
    {
     "data": {
      "text/plain": [
       "<keras.src.callbacks.History at 0x165b2cefed0>"
      ]
     },
     "execution_count": 57,
     "metadata": {},
     "output_type": "execute_result"
    }
   ],
   "source": [
    "model.fit(mnist_train_x,mnist_train_y,validation_split=0.2,batch_size=64,epochs=5)"
   ]
  },
  {
   "cell_type": "code",
   "execution_count": 58,
   "id": "421e74f1",
   "metadata": {},
   "outputs": [],
   "source": [
    "mnist_test_x = mnist_test_x.reshape(-1, 28, 28, 1)"
   ]
  },
  {
   "cell_type": "code",
   "execution_count": 61,
   "id": "dc879c1f",
   "metadata": {},
   "outputs": [
    {
     "name": "stdout",
     "output_type": "stream",
     "text": [
      "263/263 [==============================] - 1s 4ms/step\n"
     ]
    },
    {
     "data": {
      "text/plain": [
       "array([[3.8073948e-14, 5.4263954e-10, 3.4495250e-05, ..., 3.6738457e-15,\n",
       "        9.9996555e-01, 1.4499458e-12],\n",
       "       [2.8762340e-20, 1.0000000e+00, 2.1353243e-13, ..., 3.6287024e-16,\n",
       "        2.8822065e-14, 5.6514766e-18],\n",
       "       [1.9471960e-03, 2.7331178e-06, 4.9566747e-06, ..., 3.1910997e-04,\n",
       "        2.6999547e-03, 4.3183022e-06],\n",
       "       ...,\n",
       "       [3.0541194e-06, 1.8214717e-04, 7.4834717e-03, ..., 1.4102316e-06,\n",
       "        9.9004316e-01, 1.2412779e-03],\n",
       "       [1.0000000e+00, 2.3505541e-18, 6.5654300e-09, ..., 5.0180476e-15,\n",
       "        9.9165638e-19, 1.8589955e-17],\n",
       "       [7.0376803e-22, 1.8936309e-15, 2.0029214e-22, ..., 2.1279345e-18,\n",
       "        4.2571297e-18, 2.6165439e-12]], dtype=float32)"
      ]
     },
     "execution_count": 61,
     "metadata": {},
     "output_type": "execute_result"
    }
   ],
   "source": [
    "pred=model.predict(mnist_test_x)\n",
    "pred"
   ]
  },
  {
   "cell_type": "code",
   "execution_count": 62,
   "id": "37795e2a",
   "metadata": {},
   "outputs": [],
   "source": [
    "pred_classes=pred.argmax(axis=1)"
   ]
  },
  {
   "cell_type": "code",
   "execution_count": 63,
   "id": "56ddc90d",
   "metadata": {},
   "outputs": [
    {
     "data": {
      "text/plain": [
       "array([[864,   0,   4,   0,   0,   0,   3,   1,   2,   3],\n",
       "       [  0, 907,   4,   1,   3,   0,   3,   0,   1,   2],\n",
       "       [  1,   2, 836,   0,   0,   0,   0,   3,   3,   1],\n",
       "       [  2,   1,   6, 825,   0,   9,   0,   8,   1,   2],\n",
       "       [  1,   3,   2,   0, 762,   0,   1,   1,   0,   6],\n",
       "       [  0,   3,   0,   7,   0, 737,   5,   0,   2,   3],\n",
       "       [  5,   1,   1,   0,   2,   2, 819,   0,   0,   0],\n",
       "       [  0,   3,   9,   1,   5,   0,   0, 849,   1,  13],\n",
       "       [  5,   4,  17,   4,   7,   7,   2,   1, 772,   7],\n",
       "       [  2,   1,   2,   2,  12,   1,   0,   2,   3, 807]], dtype=int64)"
      ]
     },
     "execution_count": 63,
     "metadata": {},
     "output_type": "execute_result"
    }
   ],
   "source": [
    "from sklearn.metrics import confusion_matrix\n",
    "a=confusion_matrix(mnist_test_y,pred_classes)\n",
    "a"
   ]
  },
  {
   "cell_type": "code",
   "execution_count": 64,
   "id": "5fe61172",
   "metadata": {},
   "outputs": [
    {
     "data": {
      "text/plain": [
       "0.9735714285714285"
      ]
     },
     "execution_count": 64,
     "metadata": {},
     "output_type": "execute_result"
    }
   ],
   "source": [
    "a.diagonal().sum()/a.sum()"
   ]
  },
  {
   "cell_type": "code",
   "execution_count": 65,
   "id": "95e804d4",
   "metadata": {},
   "outputs": [],
   "source": [
    "from sklearn.metrics import classification_report"
   ]
  },
  {
   "cell_type": "code",
   "execution_count": 66,
   "id": "c9edcbea",
   "metadata": {},
   "outputs": [
    {
     "name": "stdout",
     "output_type": "stream",
     "text": [
      "              precision    recall  f1-score   support\n",
      "\n",
      "           0       0.98      0.99      0.98       877\n",
      "           1       0.98      0.98      0.98       921\n",
      "           2       0.95      0.99      0.97       846\n",
      "           3       0.98      0.97      0.97       854\n",
      "           4       0.96      0.98      0.97       776\n",
      "           5       0.97      0.97      0.97       757\n",
      "           6       0.98      0.99      0.98       830\n",
      "           7       0.98      0.96      0.97       881\n",
      "           8       0.98      0.93      0.96       826\n",
      "           9       0.96      0.97      0.96       832\n",
      "\n",
      "    accuracy                           0.97      8400\n",
      "   macro avg       0.97      0.97      0.97      8400\n",
      "weighted avg       0.97      0.97      0.97      8400\n",
      "\n"
     ]
    }
   ],
   "source": [
    "print(classification_report(mnist_test_y,pred_classes))"
   ]
  },
  {
   "cell_type": "markdown",
   "id": "315cd617",
   "metadata": {},
   "source": [
    "# Conclusion:\n",
    "A confusion matrix is computed to evaluate the model’s performance.\n",
    "The overall accuracy is calculated.\n",
    "A classification report is generated to provide detailed performance metrics."
   ]
  },
  {
   "cell_type": "code",
   "execution_count": null,
   "id": "9541a51a",
   "metadata": {},
   "outputs": [],
   "source": []
  },
  {
   "cell_type": "code",
   "execution_count": null,
   "id": "63146887",
   "metadata": {},
   "outputs": [],
   "source": []
  },
  {
   "cell_type": "code",
   "execution_count": null,
   "id": "08da0665",
   "metadata": {},
   "outputs": [],
   "source": []
  }
 ],
 "metadata": {
  "kernelspec": {
   "display_name": "Python 3",
   "language": "python",
   "name": "python3"
  },
  "language_info": {
   "codemirror_mode": {
    "name": "ipython",
    "version": 3
   },
   "file_extension": ".py",
   "mimetype": "text/x-python",
   "name": "python",
   "nbconvert_exporter": "python",
   "pygments_lexer": "ipython3",
   "version": "3.8.8"
  }
 },
 "nbformat": 4,
 "nbformat_minor": 5
}
